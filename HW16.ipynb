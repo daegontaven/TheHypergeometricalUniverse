{
 "cells": [
  {
   "cell_type": "code",
   "execution_count": 37,
   "metadata": {
    "collapsed": true
   },
   "outputs": [],
   "source": [
    "%matplotlib inline\n",
    "import numpy as np\n",
    "from scipy.integrate import odeint\n",
    "import matplotlib.pylab as plt\n",
    "import pandas as pd\n"
   ]
  },
  {
   "cell_type": "markdown",
   "metadata": {
    "deletable": true,
    "editable": true
   },
   "source": [
    "# Homework 16"
   ]
  },
  {
   "cell_type": "markdown",
   "metadata": {
    "deletable": true,
    "editable": true
   },
   "source": [
    "### Problem 1\n",
    "\n",
    "Solve the following ODE $$\\frac{dy}{dt} = ye^{-t}$$ to $t=6$.  Plot the resulting function $y(t)$. The initial condition is $y_0=1$. "
   ]
  },
  {
   "cell_type": "code",
   "execution_count": 38,
   "metadata": {
    "collapsed": false,
    "deletable": true,
    "editable": true
   },
   "outputs": [
    {
     "data": {
      "image/png": "[encoded data removed]",
      "text/plain": [
       "<matplotlib.figure.Figure at 0x119fbd978>"
      ]
     },
     "metadata": {},
     "output_type": "display_data"
    }
   ],
   "source": [
    "fig, axes = plt.subplots(nrows=1, ncols=1, figsize=(12, 8))\n",
    "fig.subplots_adjust(hspace=.4)\n",
    "def f(y,t):\n",
    "    dydt=y*np.exp(-t)\n",
    "    return dydt\n",
    "\n",
    "y0=1.0\n",
    "t=np.linspace(0,6)\n",
    "y= odeint(f,y0,t)\n",
    "plt.plot(t,y)\n",
    "plt.xlabel('Time')\n",
    "plt.ylabel('y')\n",
    "plt.show()\n"
   ]
  },
  {
   "cell_type": "markdown",
   "metadata": {
    "collapsed": true,
    "deletable": true,
    "editable": true
   },
   "source": [
    "### Problem 2\n",
    "\n",
    "For the following first order reaction $A\\rightarrow B$, solve for the concentration of A in time if the initial concentration $A_0=1.0$, and the reaction rate is given by $$\\frac{dC_A}{dt} = -kC_A.$$ where k=2.0. \n",
    "\n",
    "#### Part a \n",
    "Make a plot of $C_{A}$ versus time. \n",
    "#### Part b\n",
    "\n",
    "Calculate the product composition, $C_{B}(t)$ by solving the additional equation $$\\frac{dC_B}{dt} = kC_A.$$ Include it on the plot of Part a."
   ]
  },
  {
   "cell_type": "code",
   "execution_count": 39,
   "metadata": {
    "collapsed": false,
    "deletable": true,
    "editable": true
   },
   "outputs": [],
   "source": [
    "def rxn(C,t):\n",
    "    k=0.1\n",
    "    ca=C[0]\n",
    "    cb=C[1]\n",
    "    dcadt=-k*ca\n",
    "    dcbdt=k*ca\n",
    "    return [dcadt,dcbdt]\n",
    "\n",
    "t=np.linspace(0,5,100)\n",
    "C0=[1.0,0.0]\n",
    "cc=odeint(rxn,C0,t)\n"
   ]
  },
  {
   "cell_type": "code",
   "execution_count": 40,
   "metadata": {
    "collapsed": false
   },
   "outputs": [
    {
     "data": {
      "text/plain": [
       "array([[ 1.        ,  0.        ],\n",
       "       [ 0.99496222,  0.00503778],\n",
       "       [ 0.98994982,  0.01005018],\n",
       "       [ 0.98496268,  0.01503732],\n",
       "       [ 0.98000068,  0.01999932],\n",
       "       [ 0.97506367,  0.02493633],\n",
       "       [ 0.97015152,  0.02984848],\n",
       "       [ 0.96526411,  0.03473589],\n",
       "       [ 0.96040133,  0.03959867],\n",
       "       [ 0.95556305,  0.04443695],\n",
       "       [ 0.95074914,  0.04925086],\n",
       "       [ 0.94595948,  0.05404052],\n",
       "       [ 0.94119396,  0.05880604],\n",
       "       [ 0.93645244,  0.06354756],\n",
       "       [ 0.9317348 ,  0.0682652 ],\n",
       "       [ 0.92704093,  0.07295907],\n",
       "       [ 0.92237071,  0.07762929],\n",
       "       [ 0.91772402,  0.08227598],\n",
       "       [ 0.91310073,  0.08689927],\n",
       "       [ 0.90850074,  0.09149926],\n",
       "       [ 0.90392392,  0.09607608],\n",
       "       [ 0.89937015,  0.10062985],\n",
       "       [ 0.89483933,  0.10516067],\n",
       "       [ 0.89033133,  0.10966867],\n",
       "       [ 0.88584604,  0.11415396],\n",
       "       [ 0.88138335,  0.11861665],\n",
       "       [ 0.87694314,  0.12305686],\n",
       "       [ 0.8725253 ,  0.1274747 ],\n",
       "       [ 0.86812972,  0.13187028],\n",
       "       [ 0.86375628,  0.13624372],\n",
       "       [ 0.85940487,  0.14059513],\n",
       "       [ 0.85507539,  0.14492461],\n",
       "       [ 0.85076771,  0.14923229],\n",
       "       [ 0.84648174,  0.15351826],\n",
       "       [ 0.84221735,  0.15778265],\n",
       "       [ 0.83797445,  0.16202555],\n",
       "       [ 0.83375293,  0.16624707],\n",
       "       [ 0.82955267,  0.17044733],\n",
       "       [ 0.82537357,  0.17462643],\n",
       "       [ 0.82121553,  0.17878447],\n",
       "       [ 0.81707843,  0.18292157],\n",
       "       [ 0.81296217,  0.18703783],\n",
       "       [ 0.80886666,  0.19113334],\n",
       "       [ 0.80479177,  0.19520823],\n",
       "       [ 0.80073741,  0.19926259],\n",
       "       [ 0.79670347,  0.20329653],\n",
       "       [ 0.79268986,  0.20731014],\n",
       "       [ 0.78869647,  0.21130353],\n",
       "       [ 0.78472319,  0.21527681],\n",
       "       [ 0.78076993,  0.21923007],\n",
       "       [ 0.77683659,  0.22316341],\n",
       "       [ 0.77292306,  0.22707694],\n",
       "       [ 0.76902925,  0.23097075],\n",
       "       [ 0.76515505,  0.23484495],\n",
       "       [ 0.76130038,  0.23869962],\n",
       "       [ 0.75746512,  0.24253488],\n",
       "       [ 0.75364918,  0.24635082],\n",
       "       [ 0.74985247,  0.25014753],\n",
       "       [ 0.74607488,  0.25392512],\n",
       "       [ 0.74231633,  0.25768367],\n",
       "       [ 0.73857671,  0.26142329],\n",
       "       [ 0.73485593,  0.26514407],\n",
       "       [ 0.73115389,  0.26884611],\n",
       "       [ 0.72747051,  0.27252949],\n",
       "       [ 0.72380568,  0.27619432],\n",
       "       [ 0.72015931,  0.27984069],\n",
       "       [ 0.71653132,  0.28346868],\n",
       "       [ 0.7129216 ,  0.2870784 ],\n",
       "       [ 0.70933006,  0.29066994],\n",
       "       [ 0.70575662,  0.29424338],\n",
       "       [ 0.70220118,  0.29779882],\n",
       "       [ 0.69866365,  0.30133635],\n",
       "       [ 0.69514394,  0.30485606],\n",
       "       [ 0.69164197,  0.30835803],\n",
       "       [ 0.68815763,  0.31184237],\n",
       "       [ 0.68469085,  0.31530915],\n",
       "       [ 0.68124153,  0.31875847],\n",
       "       [ 0.67780959,  0.32219041],\n",
       "       [ 0.67439494,  0.32560506],\n",
       "       [ 0.67099749,  0.32900251],\n",
       "       [ 0.66761716,  0.33238284],\n",
       "       [ 0.66425385,  0.33574615],\n",
       "       [ 0.66090749,  0.33909251],\n",
       "       [ 0.65757799,  0.34242201],\n",
       "       [ 0.65426526,  0.34573474],\n",
       "       [ 0.65096922,  0.34903078],\n",
       "       [ 0.64768979,  0.35231021],\n",
       "       [ 0.64442687,  0.35557313],\n",
       "       [ 0.6411804 ,  0.3588196 ],\n",
       "       [ 0.63795028,  0.36204972],\n",
       "       [ 0.63473643,  0.36526357],\n",
       "       [ 0.63153877,  0.36846123],\n",
       "       [ 0.62835722,  0.37164278],\n",
       "       [ 0.6251917 ,  0.3748083 ],\n",
       "       [ 0.62204213,  0.37795787],\n",
       "       [ 0.61890842,  0.38109158],\n",
       "       [ 0.6157905 ,  0.3842095 ],\n",
       "       [ 0.61268829,  0.38731171],\n",
       "       [ 0.60960171,  0.39039829],\n",
       "       [ 0.60653067,  0.39346933]])"
      ]
     },
     "execution_count": 40,
     "metadata": {},
     "output_type": "execute_result"
    }
   ],
   "source": [
    "cc"
   ]
  },
  {
   "cell_type": "markdown",
   "metadata": {
    "collapsed": true,
    "deletable": true,
    "editable": true
   },
   "source": [
    "### Problem 3\n",
    "\n",
    "We are performing a chemical reaction as follows.\n",
    "\\begin{align}\n",
    "\\mbox{Rxn 1: }\\phantom{xxx} & A+B\\rightarrow C \\\\\n",
    "\\mbox{Rxn 2: }\\phantom{xxx} & B+C\\rightarrow D \n",
    "\\end{align}\n",
    "Here, symbols $A$, $B$, $C$, $D$ denote species concentrations in mol/L. The initial concentrations are $A_0=1$, $B_0=1$, $C_0=0$, $D_0=0$. Also, $k_1=1\\,L/mol*s$, and $k_2=1.5\\,L/mol*s$.\n",
    "\n",
    "Solve for the concentrations of $A$, $B$, $C$, and $D$ as functions of time. Solve at timestep intervals of $dt=0.2\\,s$ and solve to a final time of $t=3\\,s$. Also, solve for the selectivity defined as $S=C/(C+D)$ as a function of time. (S is initially undefined, but you can set it equal to 1 at $t=0$.) Use ODEINT (not Euler's equation) applied to each d(Species)/dt above.\n",
    "\n",
    "Plot the concentrations of A, B, C, D, and S as functions of time on the same plot. Label the axes as \"time (s)\" and “concentration (mol/L)”. You can compare your solution to problem 2 from HW 5 where Euler's method is used to solve the same problem.\n"
   ]
  },
  {
   "cell_type": "code",
   "execution_count": null,
   "metadata": {
    "collapsed": true,
    "deletable": true,
    "editable": true
   },
   "outputs": [],
   "source": []
  },
  {
   "cell_type": "code",
   "execution_count": null,
   "metadata": {
    "collapsed": true
   },
   "outputs": [],
   "source": []
  },
  {
   "cell_type": "code",
   "execution_count": 44,
   "metadata": {
    "collapsed": false
   },
   "outputs": [
    {
     "data": {
      "text/plain": [
       "<matplotlib.axes._subplots.AxesSubplot at 0x11a438d30>"
      ]
     },
     "execution_count": 44,
     "metadata": {},
     "output_type": "execute_result"
    },
    {
     "data": {
      "image/png": "[encoded data removed]",
      "text/plain": [
       "<matplotlib.figure.Figure at 0x11a4112e8>"
      ]
     },
     "metadata": {},
     "output_type": "display_data"
    }
   ],
   "source": []
  },
  {
   "cell_type": "code",
   "execution_count": 34,
   "metadata": {
    "collapsed": false
   },
   "outputs": [
    {
     "data": {
      "text/plain": [
       "array([[  8.00000000e-01,   0.00000000e+00,   0.00000000e+00,\n",
       "          2.00000000e-01,   0.00000000e+00,   0.00000000e+00],\n",
       "       [  7.99354057e-01,   3.22971511e-04,   3.26175665e-08,\n",
       "          1.99999967e-01,   5.02687202e-12,   5.02687202e-12],\n",
       "       [  7.98709156e-01,   6.45421866e-04,   1.30431225e-07,\n",
       "          1.99999870e-01,   2.62087484e-11,   2.62087484e-11],\n",
       "       [  7.98065295e-01,   9.67352278e-04,   2.93339675e-07,\n",
       "          1.99999707e-01,   7.93781510e-11,   7.93781510e-11],\n",
       "       [  7.97422472e-01,   1.28876414e-03,   5.21226391e-07,\n",
       "          1.99999479e-01,   1.82753548e-10,   1.82753548e-10],\n",
       "       [  7.96780684e-01,   1.60965814e-03,   8.14031279e-07,\n",
       "          1.99999186e-01,   3.45761223e-10,   3.45761223e-10],\n",
       "       [  7.96139929e-01,   1.93003567e-03,   1.17163824e-06,\n",
       "          1.99998828e-01,   5.86566282e-10,   5.86566282e-10],\n",
       "       [  7.95500204e-01,   2.24989803e-03,   1.59393733e-06,\n",
       "          1.99998406e-01,   9.22361648e-10,   9.22361648e-10],\n",
       "       [  7.94861507e-01,   2.56924654e-03,   2.08081861e-06,\n",
       "          1.99997919e-01,   1.37034024e-09,   1.37034024e-09],\n",
       "       [  7.94223835e-01,   2.88808250e-03,   2.63217215e-06,\n",
       "          1.99997368e-01,   1.94769499e-09,   1.94769499e-09],\n",
       "       [  7.93587186e-01,   3.20640722e-03,   3.24788801e-06,\n",
       "          1.99996752e-01,   2.67161881e-09,   2.67161881e-09],\n",
       "       [  7.92951556e-01,   3.52422202e-03,   3.92785625e-06,\n",
       "          1.99996072e-01,   3.55930463e-09,   3.55930463e-09],\n",
       "       [  7.92316944e-01,   3.84152819e-03,   4.67196693e-06,\n",
       "          1.99995328e-01,   4.62794538e-09,   4.62794538e-09],\n",
       "       [  7.91683346e-01,   4.15832707e-03,   5.48011012e-06,\n",
       "          1.99994520e-01,   5.89473396e-09,   5.89473396e-09],\n",
       "       [  7.91050760e-01,   4.47461994e-03,   6.35217587e-06,\n",
       "          1.99993648e-01,   7.37686332e-09,   7.37686332e-09],\n",
       "       [  7.90419184e-01,   4.79040813e-03,   7.28805425e-06,\n",
       "          1.99992712e-01,   9.09152636e-09,   9.09152636e-09],\n",
       "       [  7.89788614e-01,   5.10569290e-03,   8.28763819e-06,\n",
       "          1.99991712e-01,   1.10554806e-08,   1.10554806e-08],\n",
       "       [  7.89159050e-01,   5.42047506e-03,   9.35085276e-06,\n",
       "          1.99990649e-01,   1.32805887e-08,   1.32805887e-08],\n",
       "       [  7.88530489e-01,   5.73475569e-03,   1.04776042e-05,\n",
       "          1.99989522e-01,   1.57815885e-08,   1.57815885e-08],\n",
       "       [  7.87902928e-01,   6.04853599e-03,   1.16677898e-05,\n",
       "          1.99988332e-01,   1.85745539e-08,   1.85745539e-08],\n",
       "       [  7.87276366e-01,   6.36181717e-03,   1.29213071e-05,\n",
       "          1.99987079e-01,   2.16755589e-08,   2.16755589e-08],\n",
       "       [  7.86650799e-01,   6.67460043e-03,   1.42380535e-05,\n",
       "          1.99985762e-01,   2.51006777e-08,   2.51006777e-08],\n",
       "       [  7.86026226e-01,   6.98688697e-03,   1.56179264e-05,\n",
       "          1.99984382e-01,   2.88659842e-08,   2.88659842e-08],\n",
       "       [  7.85402644e-01,   7.29867801e-03,   1.70608232e-05,\n",
       "          1.99982939e-01,   3.29875524e-08,   3.29875524e-08],\n",
       "       [  7.84780051e-01,   7.60997473e-03,   1.85666413e-05,\n",
       "          1.99981433e-01,   3.74814565e-08,   3.74814565e-08],\n",
       "       [  7.84158443e-01,   7.92077836e-03,   2.01352781e-05,\n",
       "          1.99979865e-01,   4.23637703e-08,   4.23637703e-08],\n",
       "       [  7.83537820e-01,   8.23109009e-03,   2.17666311e-05,\n",
       "          1.99978233e-01,   4.76505680e-08,   4.76505680e-08],\n",
       "       [  7.82918178e-01,   8.54091113e-03,   2.34605976e-05,\n",
       "          1.99976539e-01,   5.33579235e-08,   5.33579235e-08],\n",
       "       [  7.82299515e-01,   8.85024267e-03,   2.52170761e-05,\n",
       "          1.99974783e-01,   5.95017750e-08,   5.95017750e-08],\n",
       "       [  7.81681829e-01,   9.15908568e-03,   2.70359743e-05,\n",
       "          1.99972964e-01,   6.60966855e-08,   6.60966855e-08],\n",
       "       [  7.81065117e-01,   9.46744128e-03,   2.89171943e-05,\n",
       "          1.99971083e-01,   7.31580614e-08,   7.31580614e-08],\n",
       "       [  7.80449379e-01,   9.77531064e-03,   3.08606357e-05,\n",
       "          1.99969139e-01,   8.07016624e-08,   8.07016624e-08],\n",
       "       [  7.79834610e-01,   1.00826949e-02,   3.28661980e-05,\n",
       "          1.99967134e-01,   8.87432486e-08,   8.87432486e-08],\n",
       "       [  7.79220810e-01,   1.03895952e-02,   3.49337809e-05,\n",
       "          1.99965066e-01,   9.72985796e-08,   9.72985796e-08],\n",
       "       [  7.78607974e-01,   1.06960128e-02,   3.70632839e-05,\n",
       "          1.99962937e-01,   1.06383415e-07,   1.06383415e-07],\n",
       "       [  7.77996103e-01,   1.10019487e-02,   3.92546066e-05,\n",
       "          1.99960745e-01,   1.16013516e-07,   1.16013516e-07],\n",
       "       [  7.77385192e-01,   1.13074042e-02,   4.15076486e-05,\n",
       "          1.99958492e-01,   1.26204640e-07,   1.26204640e-07],\n",
       "       [  7.76775239e-01,   1.16123804e-02,   4.38223095e-05,\n",
       "          1.99956178e-01,   1.36972549e-07,   1.36972549e-07],\n",
       "       [  7.76166243e-01,   1.19168785e-02,   4.61984888e-05,\n",
       "          1.99953802e-01,   1.48333002e-07,   1.48333002e-07],\n",
       "       [  7.75558201e-01,   1.22208996e-02,   4.86360862e-05,\n",
       "          1.99951364e-01,   1.60301758e-07,   1.60301758e-07],\n",
       "       [  7.74951116e-01,   1.25244422e-02,   5.11351347e-05,\n",
       "          1.99948865e-01,   1.72874877e-07,   1.72874877e-07],\n",
       "       [  7.74344973e-01,   1.28275134e-02,   5.36952391e-05,\n",
       "          1.99946305e-01,   1.86111635e-07,   1.86111635e-07],\n",
       "       [  7.73739779e-01,   1.31301106e-02,   5.63164858e-05,\n",
       "          1.99943684e-01,   2.00000209e-07,   2.00000209e-07],\n",
       "       [  7.73135530e-01,   1.34322349e-02,   5.89987747e-05,\n",
       "          1.99941001e-01,   2.14556310e-07,   2.14556310e-07],\n",
       "       [  7.72532225e-01,   1.37338875e-02,   6.17420060e-05,\n",
       "          1.99938258e-01,   2.29795624e-07,   2.29795624e-07],\n",
       "       [  7.71929861e-01,   1.40350695e-02,   6.45460798e-05,\n",
       "          1.99935454e-01,   2.45733807e-07,   2.45733807e-07],\n",
       "       [  7.71328436e-01,   1.43357821e-02,   6.74108967e-05,\n",
       "          1.99932589e-01,   2.62386492e-07,   2.62386492e-07],\n",
       "       [  7.70727947e-01,   1.46360265e-02,   7.03363572e-05,\n",
       "          1.99929664e-01,   2.79769286e-07,   2.79769286e-07],\n",
       "       [  7.70128393e-01,   1.49358037e-02,   7.33223622e-05,\n",
       "          1.99926678e-01,   2.97897769e-07,   2.97897769e-07],\n",
       "       [  7.69529770e-01,   1.52351148e-02,   7.63688126e-05,\n",
       "          1.99923631e-01,   3.16787495e-07,   3.16787495e-07],\n",
       "       [  7.68932078e-01,   1.55339611e-02,   7.94756097e-05,\n",
       "          1.99920524e-01,   3.36453992e-07,   3.36453992e-07],\n",
       "       [  7.68335313e-01,   1.58323436e-02,   8.26426546e-05,\n",
       "          1.99917357e-01,   3.56912762e-07,   3.56912762e-07],\n",
       "       [  7.67739473e-01,   1.61302635e-02,   8.58698499e-05,\n",
       "          1.99914130e-01,   3.78179141e-07,   3.78179141e-07],\n",
       "       [  7.67144557e-01,   1.64277216e-02,   8.91571056e-05,\n",
       "          1.99910843e-01,   4.00267302e-07,   4.00267302e-07],\n",
       "       [  7.66550562e-01,   1.67247191e-02,   9.25043266e-05,\n",
       "          1.99907496e-01,   4.23192186e-07,   4.23192186e-07],\n",
       "       [  7.65957486e-01,   1.70212570e-02,   9.59114165e-05,\n",
       "          1.99904089e-01,   4.46968966e-07,   4.46968966e-07],\n",
       "       [  7.65365327e-01,   1.73173363e-02,   9.93782790e-05,\n",
       "          1.99900622e-01,   4.71612782e-07,   4.71612782e-07],\n",
       "       [  7.64774083e-01,   1.76129583e-02,   1.02904818e-04,\n",
       "          1.99897095e-01,   4.97138737e-07,   4.97138737e-07],\n",
       "       [  7.64183752e-01,   1.79081239e-02,   1.06490938e-04,\n",
       "          1.99893509e-01,   5.23561898e-07,   5.23561898e-07],\n",
       "       [  7.63594332e-01,   1.82028342e-02,   1.10136543e-04,\n",
       "          1.99889863e-01,   5.50897299e-07,   5.50897299e-07],\n",
       "       [  7.63005819e-01,   1.84970903e-02,   1.13841538e-04,\n",
       "          1.99886158e-01,   5.79159938e-07,   5.79159938e-07],\n",
       "       [  7.62418214e-01,   1.87908931e-02,   1.17605828e-04,\n",
       "          1.99882394e-01,   6.08364780e-07,   6.08364780e-07],\n",
       "       [  7.61831512e-01,   1.90842439e-02,   1.21429318e-04,\n",
       "          1.99878571e-01,   6.38526751e-07,   6.38526751e-07],\n",
       "       [  7.61245713e-01,   1.93771435e-02,   1.25311913e-04,\n",
       "          1.99874688e-01,   6.69660745e-07,   6.69660745e-07],\n",
       "       [  7.60660814e-01,   1.96695930e-02,   1.29253519e-04,\n",
       "          1.99870746e-01,   7.01781620e-07,   7.01781620e-07],\n",
       "       [  7.60076813e-01,   1.99615936e-02,   1.33254041e-04,\n",
       "          1.99866746e-01,   7.34904200e-07,   7.34904200e-07],\n",
       "       [  7.59493708e-01,   2.02531461e-02,   1.37313387e-04,\n",
       "          1.99862687e-01,   7.69043272e-07,   7.69043272e-07],\n",
       "       [  7.58911497e-01,   2.05442517e-02,   1.41431462e-04,\n",
       "          1.99858569e-01,   8.04213591e-07,   8.04213591e-07],\n",
       "       [  7.58330177e-01,   2.08349113e-02,   1.45608173e-04,\n",
       "          1.99854392e-01,   8.40429873e-07,   8.40429873e-07],\n",
       "       [  7.57749748e-01,   2.11251259e-02,   1.49843426e-04,\n",
       "          1.99850157e-01,   8.77706802e-07,   8.77706802e-07],\n",
       "       [  7.57170207e-01,   2.14148967e-02,   1.54137129e-04,\n",
       "          1.99845863e-01,   9.16059027e-07,   9.16059027e-07],\n",
       "       [  7.56591551e-01,   2.17042245e-02,   1.58489188e-04,\n",
       "          1.99841511e-01,   9.55501159e-07,   9.55501159e-07],\n",
       "       [  7.56013779e-01,   2.19931104e-02,   1.62899512e-04,\n",
       "          1.99837100e-01,   9.96047778e-07,   9.96047778e-07],\n",
       "       [  7.55436889e-01,   2.22815554e-02,   1.67368008e-04,\n",
       "          1.99832632e-01,   1.03771343e-06,   1.03771343e-06],\n",
       "       [  7.54860879e-01,   2.25695604e-02,   1.71894584e-04,\n",
       "          1.99828105e-01,   1.08051261e-06,   1.08051261e-06],\n",
       "       [  7.54285747e-01,   2.28571265e-02,   1.76479148e-04,\n",
       "          1.99823521e-01,   1.12445985e-06,   1.12445985e-06],\n",
       "       [  7.53711491e-01,   2.31442547e-02,   1.81121603e-04,\n",
       "          1.99818878e-01,   1.16957026e-06,   1.16957026e-06],\n",
       "       [  7.53138108e-01,   2.34309462e-02,   1.85821854e-04,\n",
       "          1.99814178e-01,   1.21585858e-06,   1.21585858e-06],\n",
       "       [  7.52565596e-01,   2.37172019e-02,   1.90579810e-04,\n",
       "          1.99809420e-01,   1.26333931e-06,   1.26333931e-06],\n",
       "       [  7.51993955e-01,   2.40030227e-02,   1.95395379e-04,\n",
       "          1.99804605e-01,   1.31202689e-06,   1.31202689e-06],\n",
       "       [  7.51423181e-01,   2.42884097e-02,   2.00268470e-04,\n",
       "          1.99799732e-01,   1.36193578e-06,   1.36193578e-06],\n",
       "       [  7.50853272e-01,   2.45733639e-02,   2.05198990e-04,\n",
       "          1.99794801e-01,   1.41308036e-06,   1.41308036e-06],\n",
       "       [  7.50284228e-01,   2.48578862e-02,   2.10186848e-04,\n",
       "          1.99789813e-01,   1.46547503e-06,   1.46547503e-06],\n",
       "       [  7.49716045e-01,   2.51419777e-02,   2.15231953e-04,\n",
       "          1.99784768e-01,   1.51913411e-06,   1.51913411e-06],\n",
       "       [  7.49148722e-01,   2.54256392e-02,   2.20334215e-04,\n",
       "          1.99779666e-01,   1.57407192e-06,   1.57407192e-06],\n",
       "       [  7.48582256e-01,   2.57088718e-02,   2.25493542e-04,\n",
       "          1.99774506e-01,   1.63030276e-06,   1.63030276e-06],\n",
       "       [  7.48016647e-01,   2.59916764e-02,   2.30709843e-04,\n",
       "          1.99769290e-01,   1.68784086e-06,   1.68784086e-06],\n",
       "       [  7.47451892e-01,   2.62740540e-02,   2.35983030e-04,\n",
       "          1.99764017e-01,   1.74670047e-06,   1.74670047e-06],\n",
       "       [  7.46887989e-01,   2.65560056e-02,   2.41313011e-04,\n",
       "          1.99758687e-01,   1.80689576e-06,   1.80689576e-06],\n",
       "       [  7.46324936e-01,   2.68375320e-02,   2.46699696e-04,\n",
       "          1.99753300e-01,   1.86844090e-06,   1.86844090e-06],\n",
       "       [  7.45762731e-01,   2.71186343e-02,   2.52142996e-04,\n",
       "          1.99747857e-01,   1.93135004e-06,   1.93135004e-06],\n",
       "       [  7.45201373e-01,   2.73993134e-02,   2.57642821e-04,\n",
       "          1.99742357e-01,   1.99563726e-06,   1.99563726e-06],\n",
       "       [  7.44640860e-01,   2.76795702e-02,   2.63199082e-04,\n",
       "          1.99736801e-01,   2.06131665e-06,   2.06131665e-06],\n",
       "       [  7.44081189e-01,   2.79594057e-02,   2.68811689e-04,\n",
       "          1.99731188e-01,   2.12840225e-06,   2.12840225e-06],\n",
       "       [  7.43522358e-01,   2.82388208e-02,   2.74480554e-04,\n",
       "          1.99725519e-01,   2.19690808e-06,   2.19690808e-06],\n",
       "       [  7.42964367e-01,   2.85178165e-02,   2.80205588e-04,\n",
       "          1.99719794e-01,   2.26684811e-06,   2.26684811e-06],\n",
       "       [  7.42407213e-01,   2.87963936e-02,   2.85986702e-04,\n",
       "          1.99714013e-01,   2.33823631e-06,   2.33823631e-06],\n",
       "       [  7.41850894e-01,   2.90745531e-02,   2.91823807e-04,\n",
       "          1.99708176e-01,   2.41108659e-06,   2.41108659e-06],\n",
       "       [  7.41295408e-01,   2.93522959e-02,   2.97716816e-04,\n",
       "          1.99702283e-01,   2.48541288e-06,   2.48541288e-06],\n",
       "       [  7.40740754e-01,   2.96296230e-02,   3.03665636e-04,\n",
       "          1.99696334e-01,   2.56122964e-06,   2.56122964e-06]])"
      ]
     },
     "execution_count": 34,
     "metadata": {},
     "output_type": "execute_result"
    }
   ],
   "source": [
    "cc"
   ]
  },
  {
   "cell_type": "code",
   "execution_count": null,
   "metadata": {
    "collapsed": true
   },
   "outputs": [],
   "source": []
  }
 ],
 "metadata": {
  "kernelspec": {
   "display_name": "Python 3",
   "language": "python",
   "name": "python3"
  },
  "language_info": {
   "codemirror_mode": {
    "name": "ipython",
    "version": 3
   },
   "file_extension": ".py",
   "mimetype": "text/x-python",
   "name": "python",
   "nbconvert_exporter": "python",
   "pygments_lexer": "ipython3",
   "version": "3.6.0"
  }
 },
 "nbformat": 4,
 "nbformat_minor": 0
}
