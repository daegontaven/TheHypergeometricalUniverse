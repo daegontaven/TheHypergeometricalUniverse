{
 "cells": [
  {
   "cell_type": "code",
   "execution_count": 1,
   "metadata": {
    "collapsed": false,
    "deletable": true,
    "editable": true
   },
   "outputs": [],
   "source": [
    "%matplotlib inline\n",
    "import matplotlib\n",
    "import math\n",
    "import pandas as pd\n",
    "import numpy as np\n",
    "import matplotlib.pyplot as plt\n",
    "from scipy.optimize import fsolve, curve_fit\n",
    "from scipy.stats import chisquare\n",
    "from astropy.cosmology import Planck15\n",
    "from astropy import constants, units\n",
    "import parameters\n",
    "\n"
   ]
  },
  {
   "cell_type": "markdown",
   "metadata": {
    "deletable": true,
    "editable": true
   },
   "source": [
    "# Pioneer Anomaly\n",
    " NASA's Voyager 1 spacecraft officially is the first human-made object to venture into interstellar space. The 36-year-old probe is about 12 billion miles (19 billion kilometers) from our sun.\n",
    " Pioneer Velocity 82,020 mph = 36,666.22 m/s\n",
    " Pioneer Distance = 19E15 meters\n",
    " \n",
    " The later is caused by the peculiar velocity of the Earth relative to the comoving cosmic rest frame as the planet moves at some 371 km/s towards the constellation Leo."
   ]
  },
  {
   "cell_type": "code",
   "execution_count": 6,
   "metadata": {
    "collapsed": false,
    "deletable": true,
    "editable": true
   },
   "outputs": [],
   "source": [
    "mps=units.meter/units.second\n",
    "R0=13.58E9*units.lightyear.to(units.meter)*units.meter\n",
    "Pd = 19E15*units.meter\n",
    "Pv= 36666.22*units.meter/units.second\n",
    "PCosmologicalAngle= Pd/R0\n",
    "PVelocityAngle=Pv/constants.c\n",
    "PAObs=8.74E-10*units.meter/units.second**2\n",
    "CentripetalAcc = constants.c**2/R0\n",
    "TimeToP1=Pd/constants.c\n",
    "TimeToP2=(Pd+Pv*TimeToP1+0.5*CentripetalAcc*TimeToP1**2)/constants.c\n"
   ]
  },
  {
   "cell_type": "code",
   "execution_count": 7,
   "metadata": {
    "collapsed": false,
    "deletable": true,
    "editable": true
   },
   "outputs": [
    {
     "data": {
      "text/plain": [
       "(<Quantity 1.478867146278917e-10>, <Quantity 0.00012230534498636387>)"
      ]
     },
     "execution_count": 7,
     "metadata": {},
     "output_type": "execute_result"
    }
   ],
   "source": [
    "PCosmologicalAngle,PVelocityAngle"
   ]
  },
  {
   "cell_type": "code",
   "execution_count": 8,
   "metadata": {
    "collapsed": false,
    "deletable": true,
    "editable": true
   },
   "outputs": [
    {
     "data": {
      "text/latex": [
       "$6.9954711 \\times 10^{-10} \\; \\mathrm{\\frac{m}{s^{2}}}$"
      ],
      "text/plain": [
       "<Quantity 6.995471086220608e-10 m / s2>"
      ]
     },
     "execution_count": 8,
     "metadata": {},
     "output_type": "execute_result"
    }
   ],
   "source": [
    "constants.c**2/R0"
   ]
  },
  {
   "cell_type": "code",
   "execution_count": 9,
   "metadata": {
    "collapsed": false,
    "deletable": true,
    "editable": true
   },
   "outputs": [
    {
     "data": {
      "text/latex": [
       "$1.2493798 \\; \\mathrm{}$"
      ],
      "text/plain": [
       "<Quantity 1.2493797618884728>"
      ]
     },
     "execution_count": 9,
     "metadata": {},
     "output_type": "execute_result"
    }
   ],
   "source": [
    "PAObs/CentripetalAcc"
   ]
  },
  {
   "cell_type": "code",
   "execution_count": 10,
   "metadata": {
    "collapsed": false,
    "deletable": true,
    "editable": true
   },
   "outputs": [
    {
     "data": {
      "text/latex": [
       "$6.7619326 \\times 10^{41} \\; \\mathrm{}$"
      ],
      "text/plain": [
       "<Quantity 6.761932621981435e+41>"
      ]
     },
     "execution_count": 10,
     "metadata": {},
     "output_type": "execute_result"
    }
   ],
   "source": [
    "R0/0.19E-15/units.meter"
   ]
  },
  {
   "cell_type": "code",
   "execution_count": null,
   "metadata": {
    "collapsed": true,
    "deletable": true,
    "editable": true
   },
   "outputs": [],
   "source": []
  }
 ],
 "metadata": {
  "anaconda-cloud": {},
  "kernelspec": {
   "display_name": "Python 3",
   "language": "python",
   "name": "python3"
  },
  "language_info": {
   "codemirror_mode": {
    "name": "ipython",
    "version": 3
   },
   "file_extension": ".py",
   "mimetype": "text/x-python",
   "name": "python",
   "nbconvert_exporter": "python",
   "pygments_lexer": "ipython3",
   "version": "3.6.0"
  }
 },
 "nbformat": 4,
 "nbformat_minor": 0
}
