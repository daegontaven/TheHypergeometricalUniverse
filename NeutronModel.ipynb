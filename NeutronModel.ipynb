{
 "cells": [
  {
   "cell_type": "code",
   "execution_count": 1,
   "metadata": {},
   "outputs": [],
   "source": [
    "%matplotlib inline\n",
    "import matplotlib\n",
    "import math\n",
    "import pandas as pd\n",
    "import numpy as np\n",
    "import matplotlib.pyplot as plt\n",
    "from scipy.optimize import fsolve, curve_fit\n",
    "from scipy.stats import chisquare\n",
    "from astropy.cosmology import Planck15\n",
    "from astropy import constants, units\n",
    "import parameters"
   ]
  },
  {
   "cell_type": "markdown",
   "metadata": {},
   "source": [
    "# Calculation of Neutron angles"
   ]
  },
  {
   "cell_type": "code",
   "execution_count": 2,
   "metadata": {},
   "outputs": [],
   "source": [
    "deBroglieLambda = 0.191753e-15*units.m\n",
    "protonMass = 1.6726219e-27*units.kg\n",
    "electronMass = 9.10938356e-31*units.kg\n",
    "neutronMass = 674927471e-27*units.kg\n",
    "charge = 1.6021773e-19*units.coulomb\n",
    "speedOfLight = 299792458*units.m\n",
    "deBrogliePeriod = deBroglieLambda/speedOfLight\n",
    "hbar=1.054571800e-34*units.J*units.s\n",
    "μN = charge*hbar/protonMass/2\n",
    "μB = charge*hbar/electronMass/2\n",
    "μn = -1.91304272*μN\n",
    "μp = 2.793*μN\n",
    "μe = 2.00231930419922*μB/2"
   ]
  },
  {
   "cell_type": "code",
   "execution_count": 3,
   "metadata": {},
   "outputs": [
    {
     "data": {
      "text/plain": [
       "(<Quantity 1.00115965209961>, <Quantity 2.793>, <Quantity -1.91304272>)"
      ]
     },
     "execution_count": 3,
     "metadata": {},
     "output_type": "execute_result"
    }
   ],
   "source": [
    "μe/μB, μp/μN, μn/μN"
   ]
  },
  {
   "cell_type": "code",
   "execution_count": 4,
   "metadata": {},
   "outputs": [
    {
     "data": {
      "text/latex": [
       "$1.9999708 \\; \\mathrm{\\frac{m^{2}\\,kg}{J\\,s}}$"
      ],
      "text/plain": [
       "<Quantity 1.9999708056128598 kg m2 / (J s)>"
      ]
     },
     "execution_count": 4,
     "metadata": {},
     "output_type": "execute_result"
    }
   ],
   "source": [
    "rn= 0.98745*deBroglieLambda\n",
    "neutronArea = math.pi*rn**2\n",
    "neutronCurrent = charge/deBrogliePeriod\n",
    "neutronMagneticMoment = neutronArea*neutronCurrent/μp\n",
    "neutronMagneticMoment"
   ]
  },
  {
   "cell_type": "code",
   "execution_count": null,
   "metadata": {
    "collapsed": true
   },
   "outputs": [],
   "source": []
  }
 ],
 "metadata": {
  "anaconda-cloud": {},
  "kernelspec": {
   "display_name": "Python [default]",
   "language": "python",
   "name": "python3"
  },
  "language_info": {
   "codemirror_mode": {
    "name": "ipython",
    "version": 3
   },
   "file_extension": ".py",
   "mimetype": "text/x-python",
   "name": "python",
   "nbconvert_exporter": "python",
   "pygments_lexer": "ipython3",
   "version": "3.5.3"
  }
 },
 "nbformat": 4,
 "nbformat_minor": 1
}
