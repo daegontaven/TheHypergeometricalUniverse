{
 "cells": [
  {
   "cell_type": "code",
   "execution_count": 25,
   "metadata": {
    "collapsed": true
   },
   "outputs": [],
   "source": [
    "import astropy.units as u\n",
    "import astropy.constants as cc\n"
   ]
  },
  {
   "cell_type": "markdown",
   "metadata": {},
   "source": [
    "# Observation\n",
    "On February 11, 2016, the LIGO Scientific Collaboration and Virgo Collaboration published a paper about the detection of gravitational waves, from a signal detected at 09.51 UTC on 14 September 2015 of two ~30 solar mass black holes merging about 1.3 billion light-years from Earth.[38][39]\n",
    "\n",
    "After an equivalent of approximately 280 trips down the 4 km length to the far mirrors and back again,[52] the two separate beams leave the arms and recombine at the beam splitter. \n",
    "\n",
    "LIGO arms = 280 * 4 KM= \n",
    "\n",
    "# Gravitational Force of a 100 billion Sun masses Supermassive Blackhole on\n",
    "# a system 1 Gly away (1E9 light years away from the SMBH).\n",
    "\n",
    "# Gravitational Time Dilation\n",
    "$t_{0}=t_{f}{\\sqrt {1-{\\frac {2GM}{rc^{2}}}}}=t_{f}{\\sqrt {1-{\\frac {r_{s}}{r}}}}$\n",
    "\n",
    "$\\frac{t_0-t_f}{tf}=\\frac{GM}{rC^2}$"
   ]
  },
  {
   "cell_type": "code",
   "execution_count": 55,
   "metadata": {
    "collapsed": false
   },
   "outputs": [
    {
     "data": {
      "text/latex": [
       "$7.5849134 \\times 10^{-9} \\; \\mathrm{}$"
      ],
      "text/plain": [
       "<Quantity 7.584913369481727e-09>"
      ]
     },
     "execution_count": 55,
     "metadata": {},
     "output_type": "execute_result"
    }
   ],
   "source": [
    "dist_GLY = 1.3e9 * u.lightyear.to('m')*u.meter\n",
    "SMBH_mass = 30*cc.M_sun\n",
    "FractionalDeltaT=cc.G*SMBH_mass/dist_GLY/cc.c**2\n",
    "LIGO_Arm=280*4*u.km.to('meter')*u.meter\n",
    "laserLambda = 532 * u.nanometer.to('meter')*u.meter\n",
    "deltaDistance= LIGO_Arm*FractionalDeltaT\n",
    "numberOfFringes=deltaDistance/laserLambda\n",
    "numberOfFringes"
   ]
  },
  {
   "cell_type": "code",
   "execution_count": 57,
   "metadata": {
    "collapsed": false
   },
   "outputs": [
    {
     "data": {
      "text/latex": [
       "$5.6351966 \\times 10^{14} \\; \\mathrm{\\frac{1}{s}}$"
      ],
      "text/plain": [
       "<Quantity 563519657894736.8 1 / s>"
      ]
     },
     "execution_count": 57,
     "metadata": {},
     "output_type": "execute_result"
    }
   ],
   "source": [
    "numberOfFringesPerSecond=cc.c/laserLambda\n",
    "numberOfFringesPerSecond"
   ]
  },
  {
   "cell_type": "code",
   "execution_count": null,
   "metadata": {
    "collapsed": true
   },
   "outputs": [],
   "source": []
  }
 ],
 "metadata": {
  "kernelspec": {
   "display_name": "Python 3",
   "language": "python",
   "name": "python3"
  },
  "language_info": {
   "codemirror_mode": {
    "name": "ipython",
    "version": 3
   },
   "file_extension": ".py",
   "mimetype": "text/x-python",
   "name": "python",
   "nbconvert_exporter": "python",
   "pygments_lexer": "ipython3",
   "version": "3.6.0"
  }
 },
 "nbformat": 4,
 "nbformat_minor": 2
}
